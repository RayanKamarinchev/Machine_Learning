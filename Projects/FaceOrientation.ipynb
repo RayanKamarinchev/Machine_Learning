{
 "cells": [
  {
   "cell_type": "code",
   "execution_count": 6,
   "metadata": {
    "collapsed": true
   },
   "outputs": [
    {
     "name": "stdout",
     "output_type": "stream",
     "text": [
      "Requirement already satisfied: sixdrepnet in c:\\users\\raian\\anaconda3\\lib\\site-packages (0.1.2)\n",
      "Requirement already satisfied: opencv-python>=4.5.5 in c:\\users\\raian\\anaconda3\\lib\\site-packages (from sixdrepnet) (4.7.0.68)\n",
      "Requirement already satisfied: scipy>=1.5.4 in c:\\users\\raian\\anaconda3\\lib\\site-packages (from sixdrepnet) (1.9.1)\n",
      "Requirement already satisfied: torch>=1.10.1 in c:\\users\\raian\\anaconda3\\lib\\site-packages (from sixdrepnet) (1.13.1)\n",
      "Requirement already satisfied: matplotlib>=3.3.4 in c:\\users\\raian\\anaconda3\\lib\\site-packages (from sixdrepnet) (3.5.2)\n",
      "Requirement already satisfied: numpy>=1.19.5 in c:\\users\\raian\\anaconda3\\lib\\site-packages (from sixdrepnet) (1.21.5)\n",
      "Requirement already satisfied: Pillow>=8.4.0 in c:\\users\\raian\\anaconda3\\lib\\site-packages (from sixdrepnet) (9.2.0)\n",
      "Requirement already satisfied: torchvision>=0.11.2 in c:\\users\\raian\\anaconda3\\lib\\site-packages (from sixdrepnet) (0.14.1)\n",
      "Requirement already satisfied: pandas>=1.1.5 in c:\\users\\raian\\anaconda3\\lib\\site-packages (from sixdrepnet) (1.4.4)\n",
      "Requirement already satisfied: fonttools>=4.22.0 in c:\\users\\raian\\anaconda3\\lib\\site-packages (from matplotlib>=3.3.4->sixdrepnet) (4.25.0)\n",
      "Requirement already satisfied: kiwisolver>=1.0.1 in c:\\users\\raian\\anaconda3\\lib\\site-packages (from matplotlib>=3.3.4->sixdrepnet) (1.4.2)\n",
      "Requirement already satisfied: pyparsing>=2.2.1 in c:\\users\\raian\\anaconda3\\lib\\site-packages (from matplotlib>=3.3.4->sixdrepnet) (3.0.9)\n",
      "Requirement already satisfied: packaging>=20.0 in c:\\users\\raian\\anaconda3\\lib\\site-packages (from matplotlib>=3.3.4->sixdrepnet) (21.3)\n",
      "Requirement already satisfied: python-dateutil>=2.7 in c:\\users\\raian\\anaconda3\\lib\\site-packages (from matplotlib>=3.3.4->sixdrepnet) (2.8.2)\n",
      "Requirement already satisfied: cycler>=0.10 in c:\\users\\raian\\anaconda3\\lib\\site-packages (from matplotlib>=3.3.4->sixdrepnet) (0.11.0)\n",
      "Requirement already satisfied: pytz>=2020.1 in c:\\users\\raian\\anaconda3\\lib\\site-packages (from pandas>=1.1.5->sixdrepnet) (2022.1)\n",
      "Requirement already satisfied: typing-extensions in c:\\users\\raian\\anaconda3\\lib\\site-packages (from torch>=1.10.1->sixdrepnet) (4.3.0)\n",
      "Requirement already satisfied: requests in c:\\users\\raian\\anaconda3\\lib\\site-packages (from torchvision>=0.11.2->sixdrepnet) (2.28.1)\n",
      "Requirement already satisfied: six>=1.5 in c:\\users\\raian\\anaconda3\\lib\\site-packages (from python-dateutil>=2.7->matplotlib>=3.3.4->sixdrepnet) (1.16.0)\n",
      "Requirement already satisfied: certifi>=2017.4.17 in c:\\users\\raian\\anaconda3\\lib\\site-packages (from requests->torchvision>=0.11.2->sixdrepnet) (2022.9.14)\n",
      "Requirement already satisfied: charset-normalizer<3,>=2 in c:\\users\\raian\\anaconda3\\lib\\site-packages (from requests->torchvision>=0.11.2->sixdrepnet) (2.0.4)\n",
      "Requirement already satisfied: idna<4,>=2.5 in c:\\users\\raian\\anaconda3\\lib\\site-packages (from requests->torchvision>=0.11.2->sixdrepnet) (3.3)\n",
      "Requirement already satisfied: urllib3<1.27,>=1.21.1 in c:\\users\\raian\\anaconda3\\lib\\site-packages (from requests->torchvision>=0.11.2->sixdrepnet) (1.26.11)\n",
      "^C\n",
      "Files removed: 919\n",
      "Looking in links: https://download.pytorch.org/whl/torch_stable.html\n",
      "Requirement already satisfied: torch in c:\\users\\raian\\anaconda3\\lib\\site-packages (1.13.1)\n",
      "Requirement already satisfied: typing-extensions in c:\\users\\raian\\anaconda3\\lib\\site-packages (from torch) (4.3.0)\n"
     ]
    }
   ],
   "source": [
    "!pip3 install sixdrepnet\n"
   ]
  },
  {
   "cell_type": "code",
   "execution_count": 14,
   "outputs": [],
   "source": [
    "# Import SixDRepNet\n",
    "from SixDRepNet import SixDRepNet\n",
    "import cv2\n",
    "\n",
    "cap = cv2.VideoCapture(0)\n",
    "model = SixDRepNet(gpu_id=-1)\n",
    "while cap.isOpened():\n",
    "    ret, frame = cap.read()\n",
    "\n",
    "    image = cv2.cvtColor(frame, cv2.COLOR_BGR2RGB)\n",
    "    pitch, yaw, roll = model.predict(image)\n",
    "\n",
    "    model.draw_axis(image, yaw, pitch, roll)\n",
    "\n",
    "    #Recolor\n",
    "    image = cv2.cvtColor(frame, cv2.COLOR_RGB2BGR)\n",
    "\n",
    "    cv2.imshow(\"Holisitc model detections\", image)\n",
    "\n",
    "    if cv2.waitKey(10) & 0xFF == ord('q'):\n",
    "        break\n",
    "\n",
    "cap.release()\n",
    "cv2.destroyAllWindows()"
   ],
   "metadata": {
    "collapsed": false
   }
  }
 ],
 "metadata": {
  "kernelspec": {
   "display_name": "Python 3",
   "language": "python",
   "name": "python3"
  },
  "language_info": {
   "codemirror_mode": {
    "name": "ipython",
    "version": 2
   },
   "file_extension": ".py",
   "mimetype": "text/x-python",
   "name": "python",
   "nbconvert_exporter": "python",
   "pygments_lexer": "ipython2",
   "version": "2.7.6"
  }
 },
 "nbformat": 4,
 "nbformat_minor": 0
}
